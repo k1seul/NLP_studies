{
 "cells": [
  {
   "cell_type": "code",
   "execution_count": 1,
   "metadata": {},
   "outputs": [
    {
     "name": "stdout",
     "output_type": "stream",
     "text": [
      "<s> flower flower island sunflower window island jungle window window guitar </s>\n",
      "<s> dog sunflower umbrella quartz guitar dog river quartz island tree </s>\n",
      "<s> apple flower island banana guitar flower tree planet quartz lemon </s>\n",
      "<s> river island house zebra flower guitar tree violin elephant dog </s>\n",
      "<s> guitar flower river house ocean house guitar cherry island kite </s>\n",
      "<s> river zebra window house house island kite dog violin kite </s>\n",
      "<s> violin house umbrella banana planet jungle ocean window cherry house </s>\n",
      "<s> cherry zebra tree umbrella elephant river notebook guitar dog kite </s>\n",
      "<s> elephant sunflower ocean window house mountain lemon violin notebook umbrella </s>\n",
      "<s> house banana violin zebra cherry planet quartz jungle notebook umbrella </s>\n",
      "\n"
     ]
    }
   ],
   "source": [
    "import random\n",
    "\n",
    "# List of words to randomly choose from\n",
    "word_list = [\n",
    "    \"apple\", \"banana\", \"cherry\", \"dog\", \"elephant\", \"flower\", \"guitar\", \"house\",\n",
    "    \"island\", \"jungle\", \"kite\", \"lemon\", \"mountain\", \"notebook\", \"ocean\", \"planet\",\n",
    "    \"quartz\", \"river\", \"sunflower\", \"tree\", \"umbrella\", \"violin\", \"window\", \"xylophone\",\n",
    "    \"yacht\", \"zebra\"\n",
    "]\n",
    "\n",
    "# Parameters\n",
    "num_sentences = 10  # Number of sentences to generate\n",
    "words_per_sentence = 10  # Words per sentence\n",
    "\n",
    "# Generate a text corpus with <s> and </s> tokens\n",
    "random_corpus = \"\"\n",
    "for _ in range(num_sentences):\n",
    "    sentence = \" \".join(random.choices(word_list, k=words_per_sentence))\n",
    "    random_corpus += f\"<s> {sentence} </s>\\n\"\n",
    "\n",
    "print(random_corpus)\n"
   ]
  },
  {
   "cell_type": "code",
   "execution_count": 30,
   "metadata": {},
   "outputs": [],
   "source": [
    "from collections import defaultdict\n",
    "\n",
    "class Unigram:\n",
    "    def __init__(self): \n",
    "        self.N_counts = 0\n",
    "        self.word_counts = defaultdict(int)  # Use defaultdict to handle missing words\n",
    "\n",
    "    def train(self, corpus: str):\n",
    "        for word in corpus.split():\n",
    "            self.word_counts[word] += 1\n",
    "            self.N_counts += 1 \n",
    "\n",
    "    @property\n",
    "    def V_counts(self):\n",
    "        return len(self.word_counts)  # Correct the method call to get the length of keys\n",
    "\n",
    "    def predict(self, word) -> float:\n",
    "        if word in self.word_counts:\n",
    "            return float(self.word_counts[word] / self.N_counts)\n",
    "        return 0.0  # Return 0 if the word is not in the dictionary\n",
    "    \n",
    "class Bigram:\n",
    "    def __init__(self): \n",
    "        self.N_counts = 0\n",
    "        self.word_counts = defaultdict(int)  # Use defaultdict to handle missing words\n",
    "\n",
    "    def bigram(self, words):\n",
    "        words = words.split() \n",
    "        print(words)\n",
    "        return zip(words[0], words[1])\n",
    "\n",
    "    def bigrams(self, corpus: str):\n",
    "        words = corpus.split()\n",
    "        return list(zip(words, words[1:]))\n",
    "\n",
    "    def train(self, corpus: str):\n",
    "        for words in self.bigrams(corpus):\n",
    "            self.word_counts[words] += 1\n",
    "            self.N_counts += 1 \n",
    "\n",
    "    @property\n",
    "    def V_counts(self):\n",
    "        return len(self.word_counts)  # Correct the method call to get the length of keys\n",
    "\n",
    "    def predict(self, words) -> float:\n",
    "        words = self.bigram(words)\n",
    "        if words in self.word_counts:\n",
    "            return float(self.word_counts[words] / self.N_counts)\n",
    "        return 0.0  # Return 0 if the word is not in the dictionary\n"
   ]
  },
  {
   "cell_type": "code",
   "execution_count": 31,
   "metadata": {},
   "outputs": [
    {
     "data": {
      "text/plain": [
       "0.041666666666666664"
      ]
     },
     "execution_count": 31,
     "metadata": {},
     "output_type": "execute_result"
    }
   ],
   "source": [
    "unigram = Unigram()\n",
    "unigram.train(random_corpus)\n",
    "unigram.predict('river')"
   ]
  },
  {
   "cell_type": "code",
   "execution_count": 32,
   "metadata": {},
   "outputs": [
    {
     "name": "stdout",
     "output_type": "stream",
     "text": [
      "['river', 'notebook']\n"
     ]
    },
    {
     "data": {
      "text/plain": [
       "0.0"
      ]
     },
     "execution_count": 32,
     "metadata": {},
     "output_type": "execute_result"
    }
   ],
   "source": [
    "bigram = Bigram() \n",
    "bigram.train(random_corpus)\n",
    "bigram.predict(\"river notebook\")"
   ]
  },
  {
   "cell_type": "code",
   "execution_count": 29,
   "metadata": {},
   "outputs": [
    {
     "data": {
      "text/plain": [
       "defaultdict(int,\n",
       "            {('<s>', 'flower'): 1,\n",
       "             ('flower', 'flower'): 1,\n",
       "             ('flower', 'island'): 2,\n",
       "             ('island', 'sunflower'): 1,\n",
       "             ('sunflower', 'window'): 1,\n",
       "             ('window', 'island'): 1,\n",
       "             ('island', 'jungle'): 1,\n",
       "             ('jungle', 'window'): 1,\n",
       "             ('window', 'window'): 1,\n",
       "             ('window', 'guitar'): 1,\n",
       "             ('guitar', '</s>'): 1,\n",
       "             ('</s>', '<s>'): 9,\n",
       "             ('<s>', 'dog'): 1,\n",
       "             ('dog', 'sunflower'): 1,\n",
       "             ('sunflower', 'umbrella'): 1,\n",
       "             ('umbrella', 'quartz'): 1,\n",
       "             ('quartz', 'guitar'): 1,\n",
       "             ('guitar', 'dog'): 2,\n",
       "             ('dog', 'river'): 1,\n",
       "             ('river', 'quartz'): 1,\n",
       "             ('quartz', 'island'): 1,\n",
       "             ('island', 'tree'): 1,\n",
       "             ('tree', '</s>'): 1,\n",
       "             ('<s>', 'apple'): 1,\n",
       "             ('apple', 'flower'): 1,\n",
       "             ('island', 'banana'): 1,\n",
       "             ('banana', 'guitar'): 1,\n",
       "             ('guitar', 'flower'): 2,\n",
       "             ('flower', 'tree'): 1,\n",
       "             ('tree', 'planet'): 1,\n",
       "             ('planet', 'quartz'): 2,\n",
       "             ('quartz', 'lemon'): 1,\n",
       "             ('lemon', '</s>'): 1,\n",
       "             ('<s>', 'river'): 2,\n",
       "             ('river', 'island'): 1,\n",
       "             ('island', 'house'): 1,\n",
       "             ('house', 'zebra'): 1,\n",
       "             ('zebra', 'flower'): 1,\n",
       "             ('flower', 'guitar'): 1,\n",
       "             ('guitar', 'tree'): 1,\n",
       "             ('tree', 'violin'): 1,\n",
       "             ('violin', 'elephant'): 1,\n",
       "             ('elephant', 'dog'): 1,\n",
       "             ('dog', '</s>'): 1,\n",
       "             ('<s>', 'guitar'): 1,\n",
       "             ('flower', 'river'): 1,\n",
       "             ('river', 'house'): 1,\n",
       "             ('house', 'ocean'): 1,\n",
       "             ('ocean', 'house'): 1,\n",
       "             ('house', 'guitar'): 1,\n",
       "             ('guitar', 'cherry'): 1,\n",
       "             ('cherry', 'island'): 1,\n",
       "             ('island', 'kite'): 2,\n",
       "             ('kite', '</s>'): 3,\n",
       "             ('river', 'zebra'): 1,\n",
       "             ('zebra', 'window'): 1,\n",
       "             ('window', 'house'): 2,\n",
       "             ('house', 'house'): 1,\n",
       "             ('house', 'island'): 1,\n",
       "             ('kite', 'dog'): 1,\n",
       "             ('dog', 'violin'): 1,\n",
       "             ('violin', 'kite'): 1,\n",
       "             ('<s>', 'violin'): 1,\n",
       "             ('violin', 'house'): 1,\n",
       "             ('house', 'umbrella'): 1,\n",
       "             ('umbrella', 'banana'): 1,\n",
       "             ('banana', 'planet'): 1,\n",
       "             ('planet', 'jungle'): 1,\n",
       "             ('jungle', 'ocean'): 1,\n",
       "             ('ocean', 'window'): 2,\n",
       "             ('window', 'cherry'): 1,\n",
       "             ('cherry', 'house'): 1,\n",
       "             ('house', '</s>'): 1,\n",
       "             ('<s>', 'cherry'): 1,\n",
       "             ('cherry', 'zebra'): 1,\n",
       "             ('zebra', 'tree'): 1,\n",
       "             ('tree', 'umbrella'): 1,\n",
       "             ('umbrella', 'elephant'): 1,\n",
       "             ('elephant', 'river'): 1,\n",
       "             ('river', 'notebook'): 1,\n",
       "             ('notebook', 'guitar'): 1,\n",
       "             ('dog', 'kite'): 1,\n",
       "             ('<s>', 'elephant'): 1,\n",
       "             ('elephant', 'sunflower'): 1,\n",
       "             ('sunflower', 'ocean'): 1,\n",
       "             ('house', 'mountain'): 1,\n",
       "             ('mountain', 'lemon'): 1,\n",
       "             ('lemon', 'violin'): 1,\n",
       "             ('violin', 'notebook'): 1,\n",
       "             ('notebook', 'umbrella'): 2,\n",
       "             ('umbrella', '</s>'): 2,\n",
       "             ('<s>', 'house'): 1,\n",
       "             ('house', 'banana'): 1,\n",
       "             ('banana', 'violin'): 1,\n",
       "             ('violin', 'zebra'): 1,\n",
       "             ('zebra', 'cherry'): 1,\n",
       "             ('cherry', 'planet'): 1,\n",
       "             ('quartz', 'jungle'): 1,\n",
       "             ('jungle', 'notebook'): 1})"
      ]
     },
     "execution_count": 29,
     "metadata": {},
     "output_type": "execute_result"
    }
   ],
   "source": [
    "bigram.word_counts"
   ]
  },
  {
   "cell_type": "code",
   "execution_count": null,
   "metadata": {},
   "outputs": [],
   "source": []
  }
 ],
 "metadata": {
  "kernelspec": {
   "display_name": "scratch",
   "language": "python",
   "name": "python3"
  },
  "language_info": {
   "codemirror_mode": {
    "name": "ipython",
    "version": 3
   },
   "file_extension": ".py",
   "mimetype": "text/x-python",
   "name": "python",
   "nbconvert_exporter": "python",
   "pygments_lexer": "ipython3",
   "version": "3.11.10"
  }
 },
 "nbformat": 4,
 "nbformat_minor": 2
}
