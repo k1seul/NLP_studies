{
 "cells": [
  {
   "cell_type": "code",
   "execution_count": 16,
   "metadata": {},
   "outputs": [],
   "source": [
    "import re\n",
    "\n",
    "class Eliza:\n",
    "    def __init__(self):\n",
    "        self.patterns = {\n",
    "            r'.*\\b[hH]ello\\b.*': \"My name is doctor ELIZA, hello!\", \n",
    "            r'.*\\bheadache\\b.*': \"Tell me more about your headache.\",\n",
    "            r'.*\\btired\\b.*': \"How long have you been feeling tired?\",\n",
    "            r'.*\\bsick\\b.*': \"What symptoms are you experiencing?\",\n",
    "            r'.*\\bstress\\b.*': \"What is causing you stress?\",\n",
    "            r'.*\\bmy ([a-z]+) hurts\\b.*': lambda match: f\"Why does your {match.group(1)} hurt?\"\n",
    "        }\n",
    "\n",
    "    def hello(self):\n",
    "        print(\"ELIZA: I am doctor ELIZA please give me symptoms you are expriencing\")\n",
    "\n",
    "    def get_user_input(self):\n",
    "        user_input = input(\"HUMAN: \")\n",
    "        return user_input\n",
    "\n",
    "    def process_input(self, user_input: str):\n",
    "        for pattern, response in self.patterns.items():\n",
    "            match = re.match(pattern, user_input, re.IGNORECASE)  # re.IGNORECASE allows case-insensitive matching\n",
    "            if match:    \n",
    "                if callable(response):\n",
    "                    response = response(match)\n",
    "                return response\n",
    "        return self.no_match_found()\n",
    "\n",
    "    def no_match_found(self):\n",
    "        return \"Please re-describe the symptoms using other words\"\n",
    "\n",
    "    def end_conversation(self):\n",
    "        print(\"ELIZA: Have a great day!\")\n",
    "\n",
    "    def start_conversation(self):\n",
    "        self.hello()\n",
    "        while True:\n",
    "            user_input = self.get_user_input()\n",
    "            \n",
    "            if user_input.lower() in ['exit', 'bye', 'goodbye']:\n",
    "                self.end_conversation() \n",
    "                break\n",
    "            \n",
    "            response = self.process_input(user_input)\n",
    "            print(\"ELIZA:\", response)\n"
   ]
  },
  {
   "cell_type": "code",
   "execution_count": 17,
   "metadata": {},
   "outputs": [
    {
     "name": "stdout",
     "output_type": "stream",
     "text": [
      "ELIZA: I am doctor ELIZA please give me symptoms you are expriencing\n",
      "ELIZA: Have a great day!\n"
     ]
    }
   ],
   "source": [
    "eliza = Eliza()\n",
    "eliza.start_conversation()"
   ]
  },
  {
   "cell_type": "code",
   "execution_count": null,
   "metadata": {},
   "outputs": [],
   "source": []
  }
 ],
 "metadata": {
  "kernelspec": {
   "display_name": "scratch",
   "language": "python",
   "name": "python3"
  },
  "language_info": {
   "codemirror_mode": {
    "name": "ipython",
    "version": 3
   },
   "file_extension": ".py",
   "mimetype": "text/x-python",
   "name": "python",
   "nbconvert_exporter": "python",
   "pygments_lexer": "ipython3",
   "version": "3.11.10"
  }
 },
 "nbformat": 4,
 "nbformat_minor": 2
}
