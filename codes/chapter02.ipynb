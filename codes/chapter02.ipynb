{
 "cells": [
  {
   "cell_type": "code",
   "execution_count": 4,
   "metadata": {},
   "outputs": [],
   "source": [
    "import re\n",
    "\n",
    "class Eliza:\n",
    "    def __init__(self):\n",
    "        self.patterns = {\n",
    "            r'.*\\b[hH]ello\\b.*': \"My name is doctor ELIZA, hello!\", \n",
    "            r'.*\\bheadache\\b.*': \"Tell me more about your headache.\",\n",
    "            r'.*\\btired\\b.*': \"How long have you been feeling tired?\",\n",
    "            r'.*\\bsick\\b.*': \"What symptoms are you experiencing?\",\n",
    "            r'.*\\bstress\\b.*': \"What is causing you stress?\",\n",
    "            r'.*\\bmy ([a-z]+) hurts\\b.*': lambda match: f\"Why does your {match.group(1)} hurt?\"\n",
    "        }\n",
    "\n",
    "    def hello(self):\n",
    "        print(\"ELIZA: I am doctor ELIZA please give me symptoms you are expriencing\")\n",
    "\n",
    "    def get_user_input(self):\n",
    "        user_input = input(\"HUMAN: \")\n",
    "        print(f\"Human {user_input}\")\n",
    "        return user_input\n",
    "\n",
    "    def process_input(self, user_input: str):\n",
    "        for pattern, response in self.patterns.items():\n",
    "            match = re.match(pattern, user_input, re.IGNORECASE)  # re.IGNORECASE allows case-insensitive matching\n",
    "            if match:    \n",
    "                if callable(response):\n",
    "                    response = response(match)\n",
    "                return response\n",
    "        return self.no_match_found()\n",
    "\n",
    "    def no_match_found(self):\n",
    "        return \"Please re-describe the symptoms using other words\"\n",
    "\n",
    "    def end_conversation(self):\n",
    "        print(\"ELIZA: Have a great day!\")\n",
    "\n",
    "    def start_conversation(self):\n",
    "        self.hello()\n",
    "        while True:\n",
    "            user_input = self.get_user_input()\n",
    "            \n",
    "            if user_input.lower() in ['exit', 'bye', 'goodbye']:\n",
    "                self.end_conversation() \n",
    "                break\n",
    "            \n",
    "            response = self.process_input(user_input)\n",
    "            print(\"ELIZA:\", response)\n"
   ]
  },
  {
   "cell_type": "code",
   "execution_count": 5,
   "metadata": {},
   "outputs": [
    {
     "name": "stdout",
     "output_type": "stream",
     "text": [
      "ELIZA: I am doctor ELIZA please give me symptoms you are expriencing\n",
      "Human Hello, my name is Hanseul Kim\n",
      "ELIZA: My name is doctor ELIZA, hello!\n",
      "Human I am sick today.\n",
      "ELIZA: What symptoms are you experiencing?\n",
      "Human I think my head hurts.\n",
      "ELIZA: Why does your head hurt?\n",
      "Human I have a headache\n",
      "ELIZA: Tell me more about your headache.\n",
      "Human exit\n",
      "ELIZA: Have a great day!\n"
     ]
    }
   ],
   "source": [
    "eliza = Eliza()\n",
    "eliza.start_conversation()"
   ]
  },
  {
   "cell_type": "code",
   "execution_count": 20,
   "metadata": {},
   "outputs": [],
   "source": [
    "import numpy as np \n",
    "\n",
    "def edit_distance(source: str, target: str):\n",
    "    costs = {'insertion': 1, 'deletion': 1, 'substitution': 2}\n",
    "    distance_matrix = np.zeros((len(source)+1, len(target)+1))\n",
    "    for i in range(len(source)+1):\n",
    "        distance_matrix[i, 0] = i\n",
    "    for j in range(len(target)+1):\n",
    "        distance_matrix[0, j] = j\n",
    "    for i in range(1, len(source)+1):\n",
    "        for j in range(1, len(target)+1):\n",
    "            deletion_edit_cost = distance_matrix[i-1, j] + costs['deletion']\n",
    "            insertion_edit_cost = distance_matrix[i, j-1] + costs['insertion']\n",
    "            substitution_edit_cost = distance_matrix[i-1, j-1] + costs['substitution'] * (source[i-1] != target[j-1])\n",
    "            distance_matrix[i, j] = min([deletion_edit_cost, insertion_edit_cost, substitution_edit_cost])\n",
    "    return int(distance_matrix[-1, -1]), distance_matrix"
   ]
  },
  {
   "cell_type": "code",
   "execution_count": 21,
   "metadata": {},
   "outputs": [
    {
     "name": "stdout",
     "output_type": "stream",
     "text": [
      "4\n"
     ]
    }
   ],
   "source": [
    "print(edit_distance('leda', 'deal')[0])"
   ]
  },
  {
   "cell_type": "code",
   "execution_count": 22,
   "metadata": {},
   "outputs": [
    {
     "name": "stdout",
     "output_type": "stream",
     "text": [
      "4\n"
     ]
    }
   ],
   "source": [
    "print(edit_distance('drive', 'brief')[0])"
   ]
  },
  {
   "cell_type": "code",
   "execution_count": 24,
   "metadata": {},
   "outputs": [
    {
     "data": {
      "text/plain": [
       "array([[0., 1., 2., 3., 4., 5.],\n",
       "       [1., 2., 3., 4., 5., 6.],\n",
       "       [2., 3., 2., 3., 4., 5.],\n",
       "       [3., 4., 3., 2., 3., 4.],\n",
       "       [4., 5., 4., 3., 4., 5.],\n",
       "       [5., 6., 5., 4., 3., 4.]])"
      ]
     },
     "execution_count": 24,
     "metadata": {},
     "output_type": "execute_result"
    }
   ],
   "source": [
    "edit_distance('drive', 'brief')[1]"
   ]
  },
  {
   "cell_type": "code",
   "execution_count": null,
   "metadata": {},
   "outputs": [],
   "source": [
    "def edit_sequence(source: str, target: str), edit_matrix: np.array):\n"
   ]
  }
 ],
 "metadata": {
  "kernelspec": {
   "display_name": "scratch",
   "language": "python",
   "name": "python3"
  },
  "language_info": {
   "codemirror_mode": {
    "name": "ipython",
    "version": 3
   },
   "file_extension": ".py",
   "mimetype": "text/x-python",
   "name": "python",
   "nbconvert_exporter": "python",
   "pygments_lexer": "ipython3",
   "version": "3.11.10"
  }
 },
 "nbformat": 4,
 "nbformat_minor": 2
}
